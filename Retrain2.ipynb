{
 "cells": [
  {
   "cell_type": "code",
   "execution_count": 1,
   "id": "3348a581",
   "metadata": {},
   "outputs": [
    {
     "name": "stdout",
     "output_type": "stream",
     "text": [
      "/home/root2\n"
     ]
    }
   ],
   "source": [
    "%cd /home/root2"
   ]
  },
  {
   "cell_type": "code",
   "execution_count": 2,
   "id": "87a67054",
   "metadata": {},
   "outputs": [
    {
     "data": {
      "text/plain": [
       "<torch._C.Generator at 0x7f3dee777710>"
      ]
     },
     "execution_count": 2,
     "metadata": {},
     "output_type": "execute_result"
    }
   ],
   "source": [
    "%matplotlib inline\n",
    "import matplotlib.pyplot as plt\n",
    "import torch\n",
    "import numpy as np\n",
    "from torchvision import datasets, transforms\n",
    "import os\n",
    "from torch import nn, optim\n",
    "import torch.nn.functional as F\n",
    "from torchvision.io import read_image\n",
    "from torchvision import datasets, transforms\n",
    "from torch.utils.data import Dataset\n",
    "from PIL import Image\n",
    "torch.manual_seed(42)"
   ]
  },
  {
   "cell_type": "code",
   "execution_count": 3,
   "id": "a37cb7e7",
   "metadata": {},
   "outputs": [],
   "source": [
    "class FakeDataset(Dataset):\n",
    "    def __init__(self, img_dir, transform=None):\n",
    "        self.img_dir = img_dir\n",
    "        self.transform = transform\n",
    "\n",
    "    def __len__(self):\n",
    "        return 60000\n",
    "\n",
    "    def __getitem__(self, idx):\n",
    "        img_path = os.path.join(self.img_dir, 'img_{}.png'.format(idx))\n",
    "        image = Image.open(img_path)\n",
    "        label = int(idx/6000)\n",
    "        if self.transform:\n",
    "            image = self.transform(image)\n",
    "        return image, label"
   ]
  },
  {
   "cell_type": "code",
   "execution_count": 4,
   "id": "18611116",
   "metadata": {},
   "outputs": [],
   "source": [
    "transform=transforms.Compose([\n",
    "        # Pad images with 0s\n",
    "        transforms.Pad((0,4,4,0), fill=0, padding_mode='constant'),\n",
    "        transforms.ToTensor(),\n",
    "        transforms.Normalize((0.5,), (0.5,)),\n",
    "        ])\n",
    "\n",
    "dataset_full = datasets.MNIST('./data', train=True, download=True,\n",
    "                   transform=transform)\n",
    "\n",
    "fake_dataset = FakeDataset('./save/CGAN_Deep_LS_Images', transforms.Compose([\n",
    "                                                transforms.ToTensor(),\n",
    "                                                transforms.Normalize((0.5,), (0.5,)),\n",
    "                                            ]))\n",
    "train_kwargs = {'batch_size': 128, 'shuffle': True}\n",
    "valid_kwargs = {'batch_size': 128, 'shuffle': False}\n",
    "test_kwargs = {'batch_size': 128, 'shuffle': False}\n",
    "\n",
    "valid_size = 5000\n",
    "\n",
    "def prepare_dataloader(fake_portion):  \n",
    "    # Real train/valid split. Fix seed to get the same validation set\n",
    "    real_dataset_train, dataset_valid = torch.utils.data.random_split(dataset_full, \n",
    "                                                                    [(len(dataset_full) - 5000), valid_size],\n",
    "                                                                     generator=torch.Generator().manual_seed(42))\n",
    "\n",
    "#     Get a portion of fake_dataset_train train data\n",
    "    fake_dataset_train, _ = torch.utils.data.random_split(fake_dataset, [fake_portion, 1-fake_portion])\n",
    "    \n",
    "    # Get real test data\n",
    "    dataset_test = datasets.MNIST('./data', train=False,\n",
    "                       transform=transform)\n",
    "\n",
    "    fake_loader = torch.utils.data.DataLoader(fake_dataset_train,**train_kwargs)\n",
    "    real_loader = torch.utils.data.DataLoader(real_dataset_train,**train_kwargs)\n",
    "    valid_loader = torch.utils.data.DataLoader(dataset_valid,**valid_kwargs)\n",
    "    test_loader = torch.utils.data.DataLoader(dataset_test, **test_kwargs)\n",
    "\n",
    "    print(\"Fake Training Set:   {} samples\".format(len(fake_dataset_train)))\n",
    "    print(\"Real Training Set:   {} samples\".format(len(real_dataset_train)))\n",
    "    print(\"Validation Set:   {} samples\".format(len(dataset_valid)))\n",
    "    print(\"Test Set:       {} samples\".format(len(dataset_test)))\n",
    "    print()\n",
    "    \n",
    "    return fake_loader, real_loader, valid_loader, test_loader"
   ]
  },
  {
   "cell_type": "code",
   "execution_count": 5,
   "id": "570d71ff",
   "metadata": {},
   "outputs": [],
   "source": [
    "# load classifier\n",
    "class LeNet(nn.Module):\n",
    "    def __init__(self):\n",
    "        super(LeNet, self).__init__()\n",
    "        self.conv1 = nn.Sequential(\n",
    "            nn.Conv2d(1, 6, (5,5)),\n",
    "            nn.BatchNorm2d(6),\n",
    "            nn.ReLU(),\n",
    "            nn.MaxPool2d(2,2)\n",
    "        )\n",
    "        \n",
    "        self.conv2 = nn.Sequential(\n",
    "            nn.Conv2d(6, 16, (5,5)),\n",
    "            nn.BatchNorm2d(16),\n",
    "            nn.ReLU(), \n",
    "            nn.MaxPool2d(2,2)\n",
    "        )\n",
    "        self.fc1   = nn.Linear(400, 120)\n",
    "        self.fc2   = nn.Linear(120, 84)\n",
    "        self.fc3   = nn.Linear(84, 10)\n",
    "        \n",
    "    def forward(self, x):\n",
    "        x = self.conv1(x)\n",
    "        x = self.conv2(x)\n",
    "        x = x.flatten(start_dim=1)\n",
    "        x = F.relu(self.fc1(x))\n",
    "        x = F.relu(self.fc2(x))\n",
    "        x = self.fc3(x)\n",
    "        return x\n",
    "    \n",
    "    def num_flat_features(self, x):\n",
    "        size = x.size()[1:]\n",
    "        num_features = 1\n",
    "        for s in size:\n",
    "            num_features *= s\n",
    "        return num_features "
   ]
  },
  {
   "cell_type": "code",
   "execution_count": 6,
   "id": "0c843d99",
   "metadata": {},
   "outputs": [],
   "source": [
    "net = LeNet().cuda()"
   ]
  },
  {
   "cell_type": "code",
   "execution_count": 7,
   "id": "9cd13464",
   "metadata": {},
   "outputs": [],
   "source": [
    "# Train & test part from https://github.com/activatedgeek/LeNet-5\n",
    "def train(epoch, train_loader):\n",
    "    net.train()\n",
    "    loss_list, batch_list = [], []\n",
    "    for i, (images, labels) in enumerate(train_loader):\n",
    "        optimizer.zero_grad()\n",
    "        output = net(images.cuda())\n",
    "        loss = criterion(output, labels.cuda())\n",
    "\n",
    "        loss_list.append(loss.detach().cpu().item())\n",
    "        batch_list.append(i+1)\n",
    "\n",
    "#         if i % 10 == 0:\n",
    "#             print('Train - Epoch %d, Batch: %d, Loss: %f' % (epoch, i, loss.detach().cpu().item()))\n",
    "\n",
    "        loss.backward()\n",
    "        optimizer.step()\n",
    "    return np.array(loss_list).mean()"
   ]
  },
  {
   "cell_type": "code",
   "execution_count": 8,
   "id": "45eb040b",
   "metadata": {},
   "outputs": [],
   "source": [
    "learning_rate = 0.001\n",
    "criterion = nn.CrossEntropyLoss()\n",
    "optimizer = optim.Adam(net.parameters(), lr=learning_rate)"
   ]
  },
  {
   "cell_type": "code",
   "execution_count": 9,
   "id": "ee5bc2f9",
   "metadata": {},
   "outputs": [],
   "source": [
    "def evaluate(target_loader, total_example=5000):\n",
    "    predictions = []\n",
    "    net.eval()\n",
    "    total_correct = 0\n",
    "    avg_loss = 0.0\n",
    "    for i, (images, labels) in enumerate(target_loader):\n",
    "        output = net(images.cuda())\n",
    "        avg_loss += criterion(output, labels.cuda())\n",
    "        pred = output.detach().max(1)[1]\n",
    "        total_correct += pred.eq(labels.cuda().view_as(pred)).sum()\n",
    "        predictions.append(pred)\n",
    "\n",
    "    avg_loss /= len(target_loader)\n",
    "#     print('Test Avg. Loss: %f, Accuracy: %f' % (avg_loss.detach().cpu().item(), float(total_correct) / total_example))\n",
    "    accuracy    = float(total_correct) / total_example\n",
    "    return accuracy, np.array(torch.cat(predictions).cpu()), avg_loss"
   ]
  },
  {
   "cell_type": "code",
   "execution_count": 10,
   "id": "25716cf3",
   "metadata": {},
   "outputs": [],
   "source": [
    "best_val_acc = 0\n",
    "train_loss_hist = []\n",
    "val_loss_hist = []\n",
    "\n",
    "fake_portions = [0.5, 1]\n",
    "\n",
    "\n",
    "def experiment(fake_portion):  \n",
    "    net = LeNet().cuda()\n",
    "    optimizer = optim.Adam(net.parameters(), lr=learning_rate)\n",
    "    \n",
    "    fake_loader, real_loader, valid_loader, test_loader = prepare_dataloader(fake_portion)\n",
    "    \n",
    "    # Initialize\n",
    "    for e in range(1, 5):\n",
    "        train_loss = train(e, real_loader)\n",
    "        validation_accuracy, validation_predictions, val_loss = evaluate(valid_loader)\n",
    "        train_loss_hist.append(train_loss.item())\n",
    "        val_loss_hist.append(val_loss.item())\n",
    "#         print(\"EPOCH {} ...\".format(e))\n",
    "#         print(\"Validation Accuracy = {:.3f}\".format(validation_accuracy))\n",
    "\n",
    "        if validation_accuracy > best_val_acc:\n",
    "            validation_accuracy = best_val_acc\n",
    "\n",
    "            torch.save(\n",
    "                {\n",
    "                    'lenet': net.state_dict(),\n",
    "                },\n",
    "                (f'./save/Q3.2b1_{int(fake_portion*100)}%.pt'),\n",
    "            )\n",
    "#             print(\"Model saved\")\n",
    "#             print()\n",
    "    \n",
    "    # Finetune\n",
    "    for e in range(1, 5):\n",
    "        train_loss = train(e, fake_loader)\n",
    "        validation_accuracy, validation_predictions, val_loss = evaluate(valid_loader)\n",
    "        train_loss_hist.append(train_loss.item())\n",
    "#         val_loss_hist.append(val_loss.item())\n",
    "#         print(\"EPOCH {} ...\".format(e))\n",
    "#         print(\"Validation Accuracy = {:.3f}\".format(validation_accuracy))\n",
    "\n",
    "        if validation_accuracy > best_val_acc:\n",
    "            validation_accuracy = best_val_acc\n",
    "\n",
    "            torch.save(\n",
    "                {\n",
    "                    'lenet': net.state_dict(),\n",
    "                },\n",
    "                (f'./save/Q3.2b1_{int(fake_portion*100)}%.pt'),\n",
    "            )\n",
    "#             print(\"Model saved\")\n",
    "#             print()\n",
    "    checkpoint = torch.load(f'./save/Q3.2b1_{int(fake_portion*100)}%.pt')\n",
    "    net.load_state_dict(checkpoint['lenet'])\n",
    "\n",
    "    test_accuracy, test_predictions, _ = evaluate(test_loader, 10000)\n",
    "    print(\"Test Accuracy = {:.3f}\".format(test_accuracy))\n",
    "    print()"
   ]
  },
  {
   "cell_type": "code",
   "execution_count": 11,
   "id": "6042adba",
   "metadata": {
    "scrolled": false
   },
   "outputs": [
    {
     "name": "stdout",
     "output_type": "stream",
     "text": [
      "Fake Training Set:   30000 samples\n",
      "Real Training Set:   55000 samples\n",
      "Validation Set:   5000 samples\n",
      "Test Set:       10000 samples\n",
      "\n",
      "Test Accuracy = 0.984\n",
      "\n",
      "Fake Training Set:   60000 samples\n",
      "Real Training Set:   55000 samples\n",
      "Validation Set:   5000 samples\n",
      "Test Set:       10000 samples\n",
      "\n"
     ]
    },
    {
     "name": "stderr",
     "output_type": "stream",
     "text": [
      "/home/root2/miniconda3/envs/GAN/lib/python3.10/site-packages/torch/utils/data/dataset.py:342: UserWarning: Length of split at index 1 is 0. This might result in an empty dataset.\n",
      "  warnings.warn(f\"Length of split at index {i} is 0. \"\n"
     ]
    },
    {
     "name": "stdout",
     "output_type": "stream",
     "text": [
      "Test Accuracy = 0.982\n",
      "\n"
     ]
    }
   ],
   "source": [
    "for fake_portion in fake_portions:\n",
    "    experiment(fake_portion)"
   ]
  },
  {
   "cell_type": "code",
   "execution_count": 12,
   "id": "77c122d6",
   "metadata": {},
   "outputs": [],
   "source": [
    "# plt.plot(train_loss_hist, label='train')\n",
    "# plt.plot(val_loss_hist, label='val')\n",
    "# plt.xlabel('epoch')\n",
    "# plt.ylabel('loss')\n",
    "# plt.legend()\n",
    "# plt.show()"
   ]
  },
  {
   "cell_type": "code",
   "execution_count": 13,
   "id": "b75f6300",
   "metadata": {},
   "outputs": [],
   "source": [
    "# checkpoint = torch.load(f'./save/Q3.2a2_{int(real_portion*100)}%.pt')\n",
    "# net.load_state_dict(checkpoint['lenet'])\n",
    "\n",
    "# test_accuracy, test_predictions, _ = evaluate(test_loader, 10000)\n",
    "# print(\"Test Accuracy = {:.3f}\".format(test_accuracy))"
   ]
  },
  {
   "cell_type": "markdown",
   "id": "5767f502",
   "metadata": {},
   "source": [
    "# Finetune"
   ]
  },
  {
   "cell_type": "code",
   "execution_count": 14,
   "id": "d01024b8",
   "metadata": {},
   "outputs": [],
   "source": [
    "# for e in range(1, 5):\n",
    "#     train_loss = train(e, real_loader)\n",
    "#     validation_accuracy, validation_predictions, val_loss = evaluate(valid_loader)\n",
    "#     train_loss_hist.append(train_loss.item())\n",
    "#     val_loss_hist.append(val_loss.item())\n",
    "#     print(\"EPOCH {} ...\".format(e))\n",
    "#     print(\"Validation Accuracy = {:.3f}\".format(validation_accuracy))\n",
    "    \n",
    "#     if validation_accuracy > best_val_acc:\n",
    "#         validation_accuracy = best_val_acc\n",
    "\n",
    "#         torch.save(\n",
    "#             {\n",
    "#                 'lenet': net.state_dict(),\n",
    "#             },\n",
    "#             (f'./save/Q3.2a2_{int(real_portion*100)}%.pt'),\n",
    "#         )\n",
    "#         print(\"Model saved\")\n",
    "#         print()"
   ]
  },
  {
   "cell_type": "code",
   "execution_count": 15,
   "id": "d6a98316",
   "metadata": {},
   "outputs": [],
   "source": [
    "# plt.plot(train_loss_hist, label='train')\n",
    "# plt.plot(val_loss_hist, label='val')\n",
    "# plt.xlabel('epoch')\n",
    "# plt.ylabel('loss')\n",
    "# plt.legend()\n",
    "# plt.show()"
   ]
  },
  {
   "cell_type": "code",
   "execution_count": 16,
   "id": "4d81d22d",
   "metadata": {},
   "outputs": [],
   "source": [
    "# checkpoint = torch.load(f'./save/Q3.2a2_{int(real_portion*100)}%.pt')\n",
    "# net.load_state_dict(checkpoint['lenet'])\n",
    "\n",
    "# test_accuracy, test_predictions, _ = evaluate(test_loader, 10000)\n",
    "# print(\"Test Accuracy = {:.3f}\".format(test_accuracy))"
   ]
  }
 ],
 "metadata": {
  "kernelspec": {
   "display_name": "Python 3 (ipykernel)",
   "language": "python",
   "name": "python3"
  },
  "language_info": {
   "codemirror_mode": {
    "name": "ipython",
    "version": 3
   },
   "file_extension": ".py",
   "mimetype": "text/x-python",
   "name": "python",
   "nbconvert_exporter": "python",
   "pygments_lexer": "ipython3",
   "version": "3.10.8"
  }
 },
 "nbformat": 4,
 "nbformat_minor": 5
}
